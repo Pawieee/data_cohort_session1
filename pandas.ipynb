{
 "cells": [
  {
   "cell_type": "markdown",
   "id": "7483da9f",
   "metadata": {},
   "source": [
    "## Welcome to our Data Cohort Session 1: Getting Started With Pandas"
   ]
  }
 ],
 "metadata": {
  "kernelspec": {
   "display_name": "de_zoomcamp",
   "language": "python",
   "name": "python3"
  },
  "language_info": {
   "name": "python",
   "version": "3.12.7"
  }
 },
 "nbformat": 4,
 "nbformat_minor": 5
}
