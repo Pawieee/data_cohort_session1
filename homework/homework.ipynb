{
 "cells": [
  {
   "cell_type": "markdown",
   "id": "73725df4",
   "metadata": {},
   "source": [
    "#### Part 1: Data Cleaning and Preparation"
   ]
  },
  {
   "cell_type": "markdown",
   "id": "d17c1ce3",
   "metadata": {},
   "source": [
    "1. `population.info()`\n"
   ]
  },
  {
   "cell_type": "code",
   "execution_count": null,
   "id": "fbcdd5cf",
   "metadata": {},
   "outputs": [],
   "source": [
    "# Insert code here"
   ]
  },
  {
   "cell_type": "markdown",
   "id": "f4d32e2b",
   "metadata": {},
   "source": [
    "2. `housing_data.info()`"
   ]
  },
  {
   "cell_type": "code",
   "execution_count": null,
   "id": "253d7342",
   "metadata": {},
   "outputs": [],
   "source": [
    "# Insert code here"
   ]
  },
  {
   "cell_type": "markdown",
   "id": "580431f0",
   "metadata": {},
   "source": [
    "3. `state_data.info()`"
   ]
  },
  {
   "cell_type": "code",
   "execution_count": null,
   "id": "fe54e8ab",
   "metadata": {},
   "outputs": [],
   "source": [
    "# Insert code here"
   ]
  },
  {
   "cell_type": "markdown",
   "id": "0523a1ee",
   "metadata": {},
   "source": [
    "#### Part 2: Questions"
   ]
  },
  {
   "cell_type": "markdown",
   "id": "49274a38",
   "metadata": {},
   "source": [
    "##### Question 1. Basic Exploration"
   ]
  },
  {
   "cell_type": "code",
   "execution_count": null,
   "id": "d9aff9c9",
   "metadata": {},
   "outputs": [],
   "source": [
    "# Insert code here"
   ]
  },
  {
   "cell_type": "markdown",
   "id": "2def23a8",
   "metadata": {},
   "source": [
    "##### Question 2. Aggregation"
   ]
  },
  {
   "cell_type": "code",
   "execution_count": null,
   "id": "6404d01b",
   "metadata": {},
   "outputs": [],
   "source": [
    "# Insert code here"
   ]
  },
  {
   "cell_type": "markdown",
   "id": "ce128a6f",
   "metadata": {},
   "source": [
    "##### Question 3.  Merging DataFrames"
   ]
  },
  {
   "cell_type": "code",
   "execution_count": null,
   "id": "b43147f3",
   "metadata": {},
   "outputs": [],
   "source": [
    "# Insert code here"
   ]
  },
  {
   "cell_type": "markdown",
   "id": "b805cb5d",
   "metadata": {},
   "source": [
    "##### Question 4. Merging + Filtering + Aggregation\n"
   ]
  },
  {
   "cell_type": "code",
   "execution_count": null,
   "id": "ebfb973d",
   "metadata": {},
   "outputs": [],
   "source": [
    "# Insert code here"
   ]
  },
  {
   "cell_type": "markdown",
   "id": "f0c4345c",
   "metadata": {},
   "source": [
    "##### Question 5. Merging + Logical Conditions + Advanced Filtering"
   ]
  },
  {
   "cell_type": "code",
   "execution_count": null,
   "id": "9aaf2009",
   "metadata": {},
   "outputs": [],
   "source": [
    "# Insert code here"
   ]
  }
 ],
 "metadata": {
  "kernelspec": {
   "display_name": "de_zoomcamp",
   "language": "python",
   "name": "python3"
  },
  "language_info": {
   "codemirror_mode": {
    "name": "ipython",
    "version": 3
   },
   "file_extension": ".py",
   "mimetype": "text/x-python",
   "name": "python",
   "nbconvert_exporter": "python",
   "pygments_lexer": "ipython3",
   "version": "3.12.7"
  }
 },
 "nbformat": 4,
 "nbformat_minor": 5
}
